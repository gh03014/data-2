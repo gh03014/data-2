{
 "cells": [
  {
   "cell_type": "code",
   "execution_count": 1,
   "metadata": {},
   "outputs": [],
   "source": [
    "import os"
   ]
  },
  {
   "cell_type": "code",
   "execution_count": 3,
   "metadata": {},
   "outputs": [
    {
     "data": {
      "text/html": [
       "<div>\n",
       "<style scoped>\n",
       "    .dataframe tbody tr th:only-of-type {\n",
       "        vertical-align: middle;\n",
       "    }\n",
       "\n",
       "    .dataframe tbody tr th {\n",
       "        vertical-align: top;\n",
       "    }\n",
       "\n",
       "    .dataframe thead th {\n",
       "        text-align: right;\n",
       "    }\n",
       "</style>\n",
       "<table border=\"1\" class=\"dataframe\">\n",
       "  <thead>\n",
       "    <tr style=\"text-align: right;\">\n",
       "      <th></th>\n",
       "      <th>기사제목</th>\n",
       "      <th>신문사</th>\n",
       "      <th>작성일자</th>\n",
       "    </tr>\n",
       "  </thead>\n",
       "  <tbody>\n",
       "    <tr>\n",
       "      <th>0</th>\n",
       "      <td>휴장일 슬쩍올빼미 공시 주의보</td>\n",
       "      <td>서울경제</td>\n",
       "      <td>2018-01-01</td>\n",
       "    </tr>\n",
       "    <tr>\n",
       "      <th>1</th>\n",
       "      <td>코스피 상단 28003100</td>\n",
       "      <td>서울경제</td>\n",
       "      <td>2018-01-01</td>\n",
       "    </tr>\n",
       "    <tr>\n",
       "      <th>2</th>\n",
       "      <td>한숨 동부대우전자 중동</td>\n",
       "      <td>서울경제</td>\n",
       "      <td>2018-01-01</td>\n",
       "    </tr>\n",
       "    <tr>\n",
       "      <th>3</th>\n",
       "      <td>금융투자업계 지도 생존 성장 운용자문사 대주주교체 카드 꺼내든다</td>\n",
       "      <td>파이낸셜뉴스</td>\n",
       "      <td>2018-01-01</td>\n",
       "    </tr>\n",
       "    <tr>\n",
       "      <th>4</th>\n",
       "      <td>금융투자업계 지도 모험자본 확충 원년 초대형 질주 계속</td>\n",
       "      <td>파이낸셜뉴스</td>\n",
       "      <td>2018-01-01</td>\n",
       "    </tr>\n",
       "  </tbody>\n",
       "</table>\n",
       "</div>"
      ],
      "text/plain": [
       "                                  기사제목     신문사        작성일자\n",
       "0                     휴장일 슬쩍올빼미 공시 주의보    서울경제  2018-01-01\n",
       "1                      코스피 상단 28003100    서울경제  2018-01-01\n",
       "2                         한숨 동부대우전자 중동    서울경제  2018-01-01\n",
       "3  금융투자업계 지도 생존 성장 운용자문사 대주주교체 카드 꺼내든다  파이낸셜뉴스  2018-01-01\n",
       "4       금융투자업계 지도 모험자본 확충 원년 초대형 질주 계속  파이낸셜뉴스  2018-01-01"
      ]
     },
     "execution_count": 3,
     "metadata": {},
     "output_type": "execute_result"
    }
   ],
   "source": [
    "import pandas as pd\n",
    "df = pd.read_csv(\"금융기사목록.csv\", encoding='cp949', engine = \"python\")\n",
    "df.head()"
   ]
  },
  {
   "cell_type": "code",
   "execution_count": 4,
   "metadata": {},
   "outputs": [
    {
     "data": {
      "text/plain": [
       "0       01\n",
       "1       01\n",
       "2       01\n",
       "3       01\n",
       "4       01\n",
       "        ..\n",
       "6208    12\n",
       "6209    12\n",
       "6210    12\n",
       "6211    12\n",
       "6212    12\n",
       "Name: 월, Length: 6213, dtype: object"
      ]
     },
     "execution_count": 4,
     "metadata": {},
     "output_type": "execute_result"
    }
   ],
   "source": [
    "# 월 추출\n",
    "df['월'] = df['작성일자'].str.split('-', expand = True).iloc[:, 1]\n",
    "df['월']"
   ]
  },
  {
   "cell_type": "code",
   "execution_count": 5,
   "metadata": {},
   "outputs": [
    {
     "data": {
      "text/html": [
       "<div>\n",
       "<style scoped>\n",
       "    .dataframe tbody tr th:only-of-type {\n",
       "        vertical-align: middle;\n",
       "    }\n",
       "\n",
       "    .dataframe tbody tr th {\n",
       "        vertical-align: top;\n",
       "    }\n",
       "\n",
       "    .dataframe thead th {\n",
       "        text-align: right;\n",
       "    }\n",
       "</style>\n",
       "<table border=\"1\" class=\"dataframe\">\n",
       "  <thead>\n",
       "    <tr style=\"text-align: right;\">\n",
       "      <th></th>\n",
       "      <th>월</th>\n",
       "      <th>작성일자</th>\n",
       "    </tr>\n",
       "  </thead>\n",
       "  <tbody>\n",
       "    <tr>\n",
       "      <th>0</th>\n",
       "      <td>01</td>\n",
       "      <td>522</td>\n",
       "    </tr>\n",
       "    <tr>\n",
       "      <th>1</th>\n",
       "      <td>02</td>\n",
       "      <td>465</td>\n",
       "    </tr>\n",
       "    <tr>\n",
       "      <th>2</th>\n",
       "      <td>03</td>\n",
       "      <td>499</td>\n",
       "    </tr>\n",
       "    <tr>\n",
       "      <th>3</th>\n",
       "      <td>04</td>\n",
       "      <td>539</td>\n",
       "    </tr>\n",
       "    <tr>\n",
       "      <th>4</th>\n",
       "      <td>05</td>\n",
       "      <td>527</td>\n",
       "    </tr>\n",
       "    <tr>\n",
       "      <th>5</th>\n",
       "      <td>06</td>\n",
       "      <td>528</td>\n",
       "    </tr>\n",
       "    <tr>\n",
       "      <th>6</th>\n",
       "      <td>07</td>\n",
       "      <td>563</td>\n",
       "    </tr>\n",
       "    <tr>\n",
       "      <th>7</th>\n",
       "      <td>08</td>\n",
       "      <td>548</td>\n",
       "    </tr>\n",
       "    <tr>\n",
       "      <th>8</th>\n",
       "      <td>09</td>\n",
       "      <td>548</td>\n",
       "    </tr>\n",
       "    <tr>\n",
       "      <th>9</th>\n",
       "      <td>10</td>\n",
       "      <td>550</td>\n",
       "    </tr>\n",
       "    <tr>\n",
       "      <th>10</th>\n",
       "      <td>11</td>\n",
       "      <td>477</td>\n",
       "    </tr>\n",
       "    <tr>\n",
       "      <th>11</th>\n",
       "      <td>12</td>\n",
       "      <td>447</td>\n",
       "    </tr>\n",
       "  </tbody>\n",
       "</table>\n",
       "</div>"
      ],
      "text/plain": [
       "     월  작성일자\n",
       "0   01   522\n",
       "1   02   465\n",
       "2   03   499\n",
       "3   04   539\n",
       "4   05   527\n",
       "5   06   528\n",
       "6   07   563\n",
       "7   08   548\n",
       "8   09   548\n",
       "9   10   550\n",
       "10  11   477\n",
       "11  12   447"
      ]
     },
     "execution_count": 5,
     "metadata": {},
     "output_type": "execute_result"
    }
   ],
   "source": [
    "grouped_df = df.groupby(['월'], as_index = False)['작성일자'].count()\n",
    "grouped_df"
   ]
  },
  {
   "cell_type": "code",
   "execution_count": 7,
   "metadata": {},
   "outputs": [
    {
     "data": {
      "text/plain": [
       "0                       휴장일 슬쩍올빼미 공시 주의보\n",
       "1                        코스피 상단 28003100\n",
       "2                           한숨 동부대우전자 중동\n",
       "3    금융투자업계 지도 생존 성장 운용자문사 대주주교체 카드 꺼내든다\n",
       "4         금융투자업계 지도 모험자본 확충 원년 초대형 질주 계속\n",
       "Name: 기사제목, dtype: object"
      ]
     },
     "execution_count": 7,
     "metadata": {},
     "output_type": "execute_result"
    }
   ],
   "source": [
    "df['기사제목'].head()"
   ]
  },
  {
   "cell_type": "code",
   "execution_count": 11,
   "metadata": {},
   "outputs": [
    {
     "data": {
      "text/plain": [
       "['휴장일', '슬쩍올빼미', '공시', '주의보', '코스피', '상단', '28003100', '한숨', '동부대우전자', '중동']"
      ]
     },
     "execution_count": 11,
     "metadata": {},
     "output_type": "execute_result"
    }
   ],
   "source": [
    "df['기사제목'].str.split(' ', expand = False).sum()[:10]"
   ]
  },
  {
   "cell_type": "code",
   "execution_count": 12,
   "metadata": {},
   "outputs": [
    {
     "data": {
      "text/plain": [
       "코스피     815\n",
       "증시      745\n",
       "상승      390\n",
       "하락      350\n",
       "코스닥     252\n",
       "美       224\n",
       "우려      215\n",
       "마켓뷰     205\n",
       "오전시황    190\n",
       "환율      184\n",
       "dtype: int64"
      ]
     },
     "execution_count": 12,
     "metadata": {},
     "output_type": "execute_result"
    }
   ],
   "source": [
    "word_list = df['기사제목'].str.split(' ', expand = False).sum()\n",
    "word_list = pd.Series(word_list) \n",
    "word_list.value_counts().iloc[:10] # 빈도가 높은 상위 10개를 출력"
   ]
  },
  {
   "cell_type": "code",
   "execution_count": 13,
   "metadata": {},
   "outputs": [
    {
     "data": {
      "text/plain": [
       "30008"
      ]
     },
     "execution_count": 13,
     "metadata": {},
     "output_type": "execute_result"
    }
   ],
   "source": [
    "# 상위 10개 외에 나머지 갯수 합\n",
    "other_occur = word_list.value_counts().iloc[11:].sum()\n",
    "other_occur"
   ]
  },
  {
   "cell_type": "code",
   "execution_count": 14,
   "metadata": {},
   "outputs": [
    {
     "data": {
      "text/plain": [
       "코스피       815\n",
       "증시        745\n",
       "상승        390\n",
       "하락        350\n",
       "코스닥       252\n",
       "美         224\n",
       "우려        215\n",
       "마켓뷰       205\n",
       "오전시황      190\n",
       "환율        184\n",
       "기타      30008\n",
       "dtype: int64"
      ]
     },
     "execution_count": 14,
     "metadata": {},
     "output_type": "execute_result"
    }
   ],
   "source": [
    "#전체 리스트중에 상위 10개만 추출\n",
    "major_word_list = word_list.value_counts().iloc[:10]\n",
    "# 나머지 합계 값 other_pccur를 추가\n",
    "major_word_list['기타'] = other_occur\n",
    "major_word_list"
   ]
  },
  {
   "cell_type": "code",
   "execution_count": null,
   "metadata": {},
   "outputs": [],
   "source": []
  },
  {
   "cell_type": "code",
   "execution_count": null,
   "metadata": {},
   "outputs": [],
   "source": []
  },
  {
   "cell_type": "code",
   "execution_count": null,
   "metadata": {},
   "outputs": [],
   "source": []
  },
  {
   "cell_type": "code",
   "execution_count": null,
   "metadata": {},
   "outputs": [],
   "source": []
  },
  {
   "cell_type": "code",
   "execution_count": 15,
   "metadata": {},
   "outputs": [],
   "source": [
    "other_occur = word_list.value_counts().iloc[11:].sum()\n",
    "major_word_list = word_list.value_counts().iloc[:10]"
   ]
  },
  {
   "cell_type": "code",
   "execution_count": 17,
   "metadata": {},
   "outputs": [
    {
     "data": {
      "text/plain": [
       "코스피     815\n",
       "증시      745\n",
       "상승      390\n",
       "하락      350\n",
       "코스닥     252\n",
       "美       224\n",
       "우려      215\n",
       "마켓뷰     205\n",
       "오전시황    190\n",
       "환율      184\n",
       "dtype: int64"
      ]
     },
     "execution_count": 17,
     "metadata": {},
     "output_type": "execute_result"
    }
   ],
   "source": [
    "major_word_list"
   ]
  },
  {
   "cell_type": "code",
   "execution_count": 16,
   "metadata": {},
   "outputs": [
    {
     "data": {
      "text/plain": [
       "30008"
      ]
     },
     "execution_count": 16,
     "metadata": {},
     "output_type": "execute_result"
    }
   ],
   "source": [
    "other_occur"
   ]
  },
  {
   "cell_type": "code",
   "execution_count": 18,
   "metadata": {},
   "outputs": [],
   "source": [
    "major_word_list['기타'] = other_occur"
   ]
  },
  {
   "cell_type": "code",
   "execution_count": 21,
   "metadata": {},
   "outputs": [
    {
     "data": {
      "text/plain": [
       "코스피       815\n",
       "증시        745\n",
       "상승        390\n",
       "하락        350\n",
       "코스닥       252\n",
       "美         224\n",
       "우려        215\n",
       "마켓뷰       205\n",
       "오전시황      190\n",
       "환율        184\n",
       "기타      30008\n",
       "dtype: int64"
      ]
     },
     "execution_count": 21,
     "metadata": {},
     "output_type": "execute_result"
    }
   ],
   "source": [
    "major_word_list"
   ]
  },
  {
   "cell_type": "code",
   "execution_count": 22,
   "metadata": {},
   "outputs": [
    {
     "data": {
      "text/plain": [
       "([<matplotlib.patches.Wedge at 0x1f03e8fa128>,\n",
       "  <matplotlib.patches.Wedge at 0x1f03e8f7ba8>],\n",
       " [Text(-0.7557875035693594, 0.26226942148942095, '기타'),\n",
       "  Text(0.7557875097082181, -0.2622694037989376, '주요단어')],\n",
       " [Text(-0.5668406276770195, 0.19670206611706567, '89.4%'),\n",
       "  Text(0.5668406322811635, -0.19670205284920317, '10.6%')])"
      ]
     },
     "execution_count": 22,
     "metadata": {},
     "output_type": "execute_result"
    },
    {
     "data": {
      "image/png": "[encoded data removed]",
      "text/plain": [
       "<Figure size 720x720 with 1 Axes>"
      ]
     },
     "metadata": {},
     "output_type": "display_data"
    }
   ],
   "source": [
    "# 주요 단어 비율 시각화\n",
    "plt.rcParams[\"figure.figsize\"] = (10, 10)\n",
    "plt.pie(x = [major_word_list['기타'], major_word_list.iloc[:-1].sum()],\n",
    "        labels = ['기타', '주요단어'],\n",
    "        colors = ['green', 'blue'],\n",
    "       labeldistance = 0.8,\n",
    "       autopct = '%1.1f%%')"
   ]
  },
  {
   "cell_type": "markdown",
   "metadata": {},
   "source": [
    "#### 월별 주요 단어 출현 빈도 시각화"
   ]
  },
  {
   "cell_type": "code",
   "execution_count": 16,
   "metadata": {},
   "outputs": [],
   "source": [
    "major_word_list = major_word_list.iloc[:-1] # 기타 제외"
   ]
  },
  {
   "cell_type": "code",
   "execution_count": 17,
   "metadata": {},
   "outputs": [
    {
     "data": {
      "text/html": [
       "<div>\n",
       "<style scoped>\n",
       "    .dataframe tbody tr th:only-of-type {\n",
       "        vertical-align: middle;\n",
       "    }\n",
       "\n",
       "    .dataframe tbody tr th {\n",
       "        vertical-align: top;\n",
       "    }\n",
       "\n",
       "    .dataframe thead th {\n",
       "        text-align: right;\n",
       "    }\n",
       "</style>\n",
       "<table border=\"1\" class=\"dataframe\">\n",
       "  <thead>\n",
       "    <tr style=\"text-align: right;\">\n",
       "      <th></th>\n",
       "      <th>기사제목</th>\n",
       "      <th>신문사</th>\n",
       "      <th>작성일자</th>\n",
       "      <th>월</th>\n",
       "    </tr>\n",
       "  </thead>\n",
       "  <tbody>\n",
       "    <tr>\n",
       "      <th>0</th>\n",
       "      <td>휴장일 슬쩍올빼미 공시 주의보</td>\n",
       "      <td>서울경제</td>\n",
       "      <td>2018-01-01</td>\n",
       "      <td>01</td>\n",
       "    </tr>\n",
       "    <tr>\n",
       "      <th>1</th>\n",
       "      <td>코스피 상단 28003100</td>\n",
       "      <td>서울경제</td>\n",
       "      <td>2018-01-01</td>\n",
       "      <td>01</td>\n",
       "    </tr>\n",
       "    <tr>\n",
       "      <th>2</th>\n",
       "      <td>한숨 동부대우전자 중동</td>\n",
       "      <td>서울경제</td>\n",
       "      <td>2018-01-01</td>\n",
       "      <td>01</td>\n",
       "    </tr>\n",
       "    <tr>\n",
       "      <th>3</th>\n",
       "      <td>금융투자업계 지도 생존 성장 운용자문사 대주주교체 카드 꺼내든다</td>\n",
       "      <td>파이낸셜뉴스</td>\n",
       "      <td>2018-01-01</td>\n",
       "      <td>01</td>\n",
       "    </tr>\n",
       "    <tr>\n",
       "      <th>4</th>\n",
       "      <td>금융투자업계 지도 모험자본 확충 원년 초대형 질주 계속</td>\n",
       "      <td>파이낸셜뉴스</td>\n",
       "      <td>2018-01-01</td>\n",
       "      <td>01</td>\n",
       "    </tr>\n",
       "  </tbody>\n",
       "</table>\n",
       "</div>"
      ],
      "text/plain": [
       "                                  기사제목     신문사        작성일자   월\n",
       "0                     휴장일 슬쩍올빼미 공시 주의보    서울경제  2018-01-01  01\n",
       "1                      코스피 상단 28003100    서울경제  2018-01-01  01\n",
       "2                         한숨 동부대우전자 중동    서울경제  2018-01-01  01\n",
       "3  금융투자업계 지도 생존 성장 운용자문사 대주주교체 카드 꺼내든다  파이낸셜뉴스  2018-01-01  01\n",
       "4       금융투자업계 지도 모험자본 확충 원년 초대형 질주 계속  파이낸셜뉴스  2018-01-01  01"
      ]
     },
     "execution_count": 17,
     "metadata": {},
     "output_type": "execute_result"
    }
   ],
   "source": [
    "df.head()"
   ]
  },
  {
   "cell_type": "code",
   "execution_count": 18,
   "metadata": {},
   "outputs": [
    {
     "data": {
      "text/plain": [
       "Index(['코스피', '증시', '상승', '하락', '코스닥', '美', '우려', '마켓뷰', '오전시황', '환율'], dtype='object')"
      ]
     },
     "execution_count": 18,
     "metadata": {},
     "output_type": "execute_result"
    }
   ],
   "source": [
    "major_word_list.index"
   ]
  },
  {
   "cell_type": "code",
   "execution_count": 19,
   "metadata": {},
   "outputs": [
    {
     "data": {
      "text/html": [
       "<div>\n",
       "<style scoped>\n",
       "    .dataframe tbody tr th:only-of-type {\n",
       "        vertical-align: middle;\n",
       "    }\n",
       "\n",
       "    .dataframe tbody tr th {\n",
       "        vertical-align: top;\n",
       "    }\n",
       "\n",
       "    .dataframe thead th {\n",
       "        text-align: right;\n",
       "    }\n",
       "</style>\n",
       "<table border=\"1\" class=\"dataframe\">\n",
       "  <thead>\n",
       "    <tr style=\"text-align: right;\">\n",
       "      <th></th>\n",
       "      <th>기사제목</th>\n",
       "      <th>신문사</th>\n",
       "      <th>작성일자</th>\n",
       "      <th>월</th>\n",
       "      <th>코스피_등장횟수</th>\n",
       "      <th>증시_등장횟수</th>\n",
       "      <th>상승_등장횟수</th>\n",
       "      <th>하락_등장횟수</th>\n",
       "      <th>코스닥_등장횟수</th>\n",
       "      <th>美_등장횟수</th>\n",
       "      <th>우려_등장횟수</th>\n",
       "      <th>마켓뷰_등장횟수</th>\n",
       "      <th>오전시황_등장횟수</th>\n",
       "      <th>환율_등장횟수</th>\n",
       "    </tr>\n",
       "  </thead>\n",
       "  <tbody>\n",
       "    <tr>\n",
       "      <th>0</th>\n",
       "      <td>휴장일 슬쩍올빼미 공시 주의보</td>\n",
       "      <td>서울경제</td>\n",
       "      <td>2018-01-01</td>\n",
       "      <td>01</td>\n",
       "      <td>False</td>\n",
       "      <td>False</td>\n",
       "      <td>False</td>\n",
       "      <td>False</td>\n",
       "      <td>False</td>\n",
       "      <td>False</td>\n",
       "      <td>False</td>\n",
       "      <td>False</td>\n",
       "      <td>False</td>\n",
       "      <td>False</td>\n",
       "    </tr>\n",
       "    <tr>\n",
       "      <th>1</th>\n",
       "      <td>코스피 상단 28003100</td>\n",
       "      <td>서울경제</td>\n",
       "      <td>2018-01-01</td>\n",
       "      <td>01</td>\n",
       "      <td>True</td>\n",
       "      <td>False</td>\n",
       "      <td>False</td>\n",
       "      <td>False</td>\n",
       "      <td>False</td>\n",
       "      <td>False</td>\n",
       "      <td>False</td>\n",
       "      <td>False</td>\n",
       "      <td>False</td>\n",
       "      <td>False</td>\n",
       "    </tr>\n",
       "    <tr>\n",
       "      <th>2</th>\n",
       "      <td>한숨 동부대우전자 중동</td>\n",
       "      <td>서울경제</td>\n",
       "      <td>2018-01-01</td>\n",
       "      <td>01</td>\n",
       "      <td>False</td>\n",
       "      <td>False</td>\n",
       "      <td>False</td>\n",
       "      <td>False</td>\n",
       "      <td>False</td>\n",
       "      <td>False</td>\n",
       "      <td>False</td>\n",
       "      <td>False</td>\n",
       "      <td>False</td>\n",
       "      <td>False</td>\n",
       "    </tr>\n",
       "    <tr>\n",
       "      <th>3</th>\n",
       "      <td>금융투자업계 지도 생존 성장 운용자문사 대주주교체 카드 꺼내든다</td>\n",
       "      <td>파이낸셜뉴스</td>\n",
       "      <td>2018-01-01</td>\n",
       "      <td>01</td>\n",
       "      <td>False</td>\n",
       "      <td>False</td>\n",
       "      <td>False</td>\n",
       "      <td>False</td>\n",
       "      <td>False</td>\n",
       "      <td>False</td>\n",
       "      <td>False</td>\n",
       "      <td>False</td>\n",
       "      <td>False</td>\n",
       "      <td>False</td>\n",
       "    </tr>\n",
       "    <tr>\n",
       "      <th>4</th>\n",
       "      <td>금융투자업계 지도 모험자본 확충 원년 초대형 질주 계속</td>\n",
       "      <td>파이낸셜뉴스</td>\n",
       "      <td>2018-01-01</td>\n",
       "      <td>01</td>\n",
       "      <td>False</td>\n",
       "      <td>False</td>\n",
       "      <td>False</td>\n",
       "      <td>False</td>\n",
       "      <td>False</td>\n",
       "      <td>False</td>\n",
       "      <td>False</td>\n",
       "      <td>False</td>\n",
       "      <td>False</td>\n",
       "      <td>False</td>\n",
       "    </tr>\n",
       "  </tbody>\n",
       "</table>\n",
       "</div>"
      ],
      "text/plain": [
       "                                  기사제목     신문사        작성일자   월  코스피_등장횟수  \\\n",
       "0                     휴장일 슬쩍올빼미 공시 주의보    서울경제  2018-01-01  01     False   \n",
       "1                      코스피 상단 28003100    서울경제  2018-01-01  01      True   \n",
       "2                         한숨 동부대우전자 중동    서울경제  2018-01-01  01     False   \n",
       "3  금융투자업계 지도 생존 성장 운용자문사 대주주교체 카드 꺼내든다  파이낸셜뉴스  2018-01-01  01     False   \n",
       "4       금융투자업계 지도 모험자본 확충 원년 초대형 질주 계속  파이낸셜뉴스  2018-01-01  01     False   \n",
       "\n",
       "   증시_등장횟수  상승_등장횟수  하락_등장횟수  코스닥_등장횟수  美_등장횟수  우려_등장횟수  마켓뷰_등장횟수  오전시황_등장횟수  \\\n",
       "0    False    False    False     False   False    False     False      False   \n",
       "1    False    False    False     False   False    False     False      False   \n",
       "2    False    False    False     False   False    False     False      False   \n",
       "3    False    False    False     False   False    False     False      False   \n",
       "4    False    False    False     False   False    False     False      False   \n",
       "\n",
       "   환율_등장횟수  \n",
       "0    False  \n",
       "1    False  \n",
       "2    False  \n",
       "3    False  \n",
       "4    False  "
      ]
     },
     "execution_count": 19,
     "metadata": {},
     "output_type": "execute_result"
    }
   ],
   "source": [
    "#major_work_list에 있는 값들을 모두 컬럼에 새로 추가한다\n",
    "#해당 값이 해당 행의 기사제목에 포함되어있으면 true값을 넣는다\n",
    "#그리고 각 컬럼별 등장횟수 합계를 append를 이용해 배열에 저장\n",
    "new_cols = []\n",
    "for col in major_word_list.index:\n",
    "    df[col + \"_등장횟수\"] = df['기사제목'].str.contains(col) # 새로운 컬럼 추가\n",
    "    new_cols.append(col + \"_등장횟수\")\n",
    "\n",
    "df.head()"
   ]
  },
  {
   "cell_type": "code",
   "execution_count": 20,
   "metadata": {},
   "outputs": [
    {
     "data": {
      "text/html": [
       "<div>\n",
       "<style scoped>\n",
       "    .dataframe tbody tr th:only-of-type {\n",
       "        vertical-align: middle;\n",
       "    }\n",
       "\n",
       "    .dataframe tbody tr th {\n",
       "        vertical-align: top;\n",
       "    }\n",
       "\n",
       "    .dataframe thead th {\n",
       "        text-align: right;\n",
       "    }\n",
       "</style>\n",
       "<table border=\"1\" class=\"dataframe\">\n",
       "  <thead>\n",
       "    <tr style=\"text-align: right;\">\n",
       "      <th></th>\n",
       "      <th>월</th>\n",
       "      <th>코스피_등장횟수</th>\n",
       "      <th>증시_등장횟수</th>\n",
       "      <th>상승_등장횟수</th>\n",
       "      <th>하락_등장횟수</th>\n",
       "      <th>코스닥_등장횟수</th>\n",
       "      <th>美_등장횟수</th>\n",
       "      <th>우려_등장횟수</th>\n",
       "      <th>마켓뷰_등장횟수</th>\n",
       "      <th>오전시황_등장횟수</th>\n",
       "      <th>환율_등장횟수</th>\n",
       "    </tr>\n",
       "  </thead>\n",
       "  <tbody>\n",
       "    <tr>\n",
       "      <th>0</th>\n",
       "      <td>01</td>\n",
       "      <td>112</td>\n",
       "      <td>81</td>\n",
       "      <td>67</td>\n",
       "      <td>43</td>\n",
       "      <td>154</td>\n",
       "      <td>29</td>\n",
       "      <td>6</td>\n",
       "      <td>20</td>\n",
       "      <td>19</td>\n",
       "      <td>34</td>\n",
       "    </tr>\n",
       "    <tr>\n",
       "      <th>1</th>\n",
       "      <td>02</td>\n",
       "      <td>100</td>\n",
       "      <td>136</td>\n",
       "      <td>74</td>\n",
       "      <td>38</td>\n",
       "      <td>50</td>\n",
       "      <td>72</td>\n",
       "      <td>16</td>\n",
       "      <td>18</td>\n",
       "      <td>14</td>\n",
       "      <td>22</td>\n",
       "    </tr>\n",
       "    <tr>\n",
       "      <th>2</th>\n",
       "      <td>03</td>\n",
       "      <td>138</td>\n",
       "      <td>104</td>\n",
       "      <td>48</td>\n",
       "      <td>43</td>\n",
       "      <td>38</td>\n",
       "      <td>90</td>\n",
       "      <td>54</td>\n",
       "      <td>23</td>\n",
       "      <td>20</td>\n",
       "      <td>16</td>\n",
       "    </tr>\n",
       "    <tr>\n",
       "      <th>3</th>\n",
       "      <td>04</td>\n",
       "      <td>152</td>\n",
       "      <td>106</td>\n",
       "      <td>68</td>\n",
       "      <td>55</td>\n",
       "      <td>48</td>\n",
       "      <td>61</td>\n",
       "      <td>25</td>\n",
       "      <td>13</td>\n",
       "      <td>22</td>\n",
       "      <td>30</td>\n",
       "    </tr>\n",
       "    <tr>\n",
       "      <th>4</th>\n",
       "      <td>05</td>\n",
       "      <td>106</td>\n",
       "      <td>113</td>\n",
       "      <td>62</td>\n",
       "      <td>67</td>\n",
       "      <td>38</td>\n",
       "      <td>35</td>\n",
       "      <td>22</td>\n",
       "      <td>12</td>\n",
       "      <td>13</td>\n",
       "      <td>19</td>\n",
       "    </tr>\n",
       "    <tr>\n",
       "      <th>5</th>\n",
       "      <td>06</td>\n",
       "      <td>80</td>\n",
       "      <td>154</td>\n",
       "      <td>54</td>\n",
       "      <td>54</td>\n",
       "      <td>19</td>\n",
       "      <td>40</td>\n",
       "      <td>23</td>\n",
       "      <td>17</td>\n",
       "      <td>5</td>\n",
       "      <td>25</td>\n",
       "    </tr>\n",
       "    <tr>\n",
       "      <th>6</th>\n",
       "      <td>07</td>\n",
       "      <td>90</td>\n",
       "      <td>126</td>\n",
       "      <td>52</td>\n",
       "      <td>49</td>\n",
       "      <td>54</td>\n",
       "      <td>42</td>\n",
       "      <td>24</td>\n",
       "      <td>20</td>\n",
       "      <td>16</td>\n",
       "      <td>30</td>\n",
       "    </tr>\n",
       "    <tr>\n",
       "      <th>7</th>\n",
       "      <td>08</td>\n",
       "      <td>96</td>\n",
       "      <td>113</td>\n",
       "      <td>47</td>\n",
       "      <td>35</td>\n",
       "      <td>24</td>\n",
       "      <td>51</td>\n",
       "      <td>15</td>\n",
       "      <td>22</td>\n",
       "      <td>22</td>\n",
       "      <td>24</td>\n",
       "    </tr>\n",
       "    <tr>\n",
       "      <th>8</th>\n",
       "      <td>09</td>\n",
       "      <td>65</td>\n",
       "      <td>97</td>\n",
       "      <td>35</td>\n",
       "      <td>37</td>\n",
       "      <td>30</td>\n",
       "      <td>59</td>\n",
       "      <td>25</td>\n",
       "      <td>16</td>\n",
       "      <td>13</td>\n",
       "      <td>13</td>\n",
       "    </tr>\n",
       "    <tr>\n",
       "      <th>9</th>\n",
       "      <td>10</td>\n",
       "      <td>119</td>\n",
       "      <td>172</td>\n",
       "      <td>45</td>\n",
       "      <td>56</td>\n",
       "      <td>30</td>\n",
       "      <td>59</td>\n",
       "      <td>19</td>\n",
       "      <td>12</td>\n",
       "      <td>15</td>\n",
       "      <td>31</td>\n",
       "    </tr>\n",
       "    <tr>\n",
       "      <th>10</th>\n",
       "      <td>11</td>\n",
       "      <td>100</td>\n",
       "      <td>107</td>\n",
       "      <td>45</td>\n",
       "      <td>44</td>\n",
       "      <td>31</td>\n",
       "      <td>70</td>\n",
       "      <td>12</td>\n",
       "      <td>22</td>\n",
       "      <td>15</td>\n",
       "      <td>17</td>\n",
       "    </tr>\n",
       "    <tr>\n",
       "      <th>11</th>\n",
       "      <td>12</td>\n",
       "      <td>70</td>\n",
       "      <td>116</td>\n",
       "      <td>33</td>\n",
       "      <td>32</td>\n",
       "      <td>14</td>\n",
       "      <td>72</td>\n",
       "      <td>30</td>\n",
       "      <td>19</td>\n",
       "      <td>17</td>\n",
       "      <td>15</td>\n",
       "    </tr>\n",
       "  </tbody>\n",
       "</table>\n",
       "</div>"
      ],
      "text/plain": [
       "     월  코스피_등장횟수  증시_등장횟수  상승_등장횟수  하락_등장횟수  코스닥_등장횟수  美_등장횟수  우려_등장횟수  \\\n",
       "0   01       112       81       67       43       154      29        6   \n",
       "1   02       100      136       74       38        50      72       16   \n",
       "2   03       138      104       48       43        38      90       54   \n",
       "3   04       152      106       68       55        48      61       25   \n",
       "4   05       106      113       62       67        38      35       22   \n",
       "5   06        80      154       54       54        19      40       23   \n",
       "6   07        90      126       52       49        54      42       24   \n",
       "7   08        96      113       47       35        24      51       15   \n",
       "8   09        65       97       35       37        30      59       25   \n",
       "9   10       119      172       45       56        30      59       19   \n",
       "10  11       100      107       45       44        31      70       12   \n",
       "11  12        70      116       33       32        14      72       30   \n",
       "\n",
       "    마켓뷰_등장횟수  오전시황_등장횟수  환율_등장횟수  \n",
       "0         20         19       34  \n",
       "1         18         14       22  \n",
       "2         23         20       16  \n",
       "3         13         22       30  \n",
       "4         12         13       19  \n",
       "5         17          5       25  \n",
       "6         20         16       30  \n",
       "7         22         22       24  \n",
       "8         16         13       13  \n",
       "9         12         15       31  \n",
       "10        22         15       17  \n",
       "11        19         17       15  "
      ]
     },
     "execution_count": 20,
     "metadata": {},
     "output_type": "execute_result"
    }
   ],
   "source": [
    "# 월별로 컬럼별 단어 등장 횟수를 나타낸다. groupby활용\n",
    "grouped_df = df.groupby('월', as_index = False)[new_cols].sum()\n",
    "grouped_df"
   ]
  },
  {
   "cell_type": "code",
   "execution_count": null,
   "metadata": {},
   "outputs": [],
   "source": []
  }
 ],
 "metadata": {
  "kernelspec": {
   "display_name": "Python 3",
   "language": "python",
   "name": "python3"
  },
  "language_info": {
   "codemirror_mode": {
    "name": "ipython",
    "version": 3
   },
   "file_extension": ".py",
   "mimetype": "text/x-python",
   "name": "python",
   "nbconvert_exporter": "python",
   "pygments_lexer": "ipython3",
   "version": "3.8.5"
  }
 },
 "nbformat": 4,
 "nbformat_minor": 2
}
